{
 "cells": [
  {
   "cell_type": "code",
   "execution_count": null,
   "id": "6dbdbf17-0f9b-4729-9f95-38945ad15aff",
   "metadata": {},
   "outputs": [],
   "source": [
    "import cv2\n",
    "import numpy as np\n",
    "from skimage import measure\n",
    "import matplotlib.pyplot as plt\n",
    "# Load the image\n",
    "image_path = 'RESISTORS-2.png'\n",
    "image = cv2.imread(image_path, cv2.IMREAD_COLOR)\n",
    "\n",
    "# Convert to HSV color space\n",
    "hsv_image = cv2.cvtColor(image, cv2.COLOR_BGR2HSV)\n",
    "\n",
    "# Define color range for segmentation\n",
    "color_lower_bound = np.array([0, 0, 0])\n",
    "color_upper_bound = np.array([255, 255, 255])\n",
    "\n",
    "# Threshold the HSV image to get only the resistors colors\n",
    "mask = cv2.inRange(hsv_image, color_lower_bound, color_upper_bound)\n",
    "\n",
    "# Label connected components\n",
    "label_image = measure.label(mask, background=0)\n",
    "# Visualize the segmentation\n",
    "plt.figure(figsize=(10, 10))\n",
    "plt.subplot(1, 2, 1)\n",
    "plt.imshow(cv2.cvtColor(image, cv2.COLOR_BGR2RGB))\n",
    "plt.title('Original Image')\n",
    "plt.axis('off')\n",
    "\n",
    "plt.subplot(1, 2, 2)\n",
    "plt.imshow(label_image, cmap='jet')\n",
    "plt.title('Segmented Image')\n",
    "plt.axis('off')\n",
    "\n",
    "plt.show()\n"
   ]
  },
  {
   "cell_type": "code",
   "execution_count": null,
   "id": "d6490693-f140-4ce1-9bad-a5f3991fac25",
   "metadata": {},
   "outputs": [],
   "source": [
    "# Calculate the properties of each connected component\n",
    "properties = measure.regionprops(label_image)\n",
    "\n",
    "# Save the cropped resistor images\n",
    "for idx, prop in enumerate(properties):\n",
    "    if prop.area > 100:  # Filter out small areas\n",
    "        # Create a mask for the component\n",
    "        minr, minc, maxr, maxc = prop.bbox\n",
    "        component_mask = (label_image == prop.label).astype(np.uint8) * 255\n",
    "        cropped_mask = component_mask[minr:maxr, minc:maxc]\n",
    "\n",
    "        # Mask the image to extract the resistor\n",
    "        cropped_resistor = image[minr:maxr, minc:maxc]\n",
    "        masked_resistor = cv2.bitwise_and(cropped_resistor, cropped_resistor, mask=cropped_mask)\n",
    "\n",
    "        # Save the masked resistor image\n",
    "        file_name = f'resistor_{idx+1}.png'\n",
    "        cv2.imwrite(file_name, masked_resistor)\n",
    "        print(f'Saved: {file_name}')\n"
   ]
  },
  {
   "cell_type": "code",
   "execution_count": null,
   "id": "c32109cc-fc4d-4246-94c4-06c3b4bdb83d",
   "metadata": {},
   "outputs": [],
   "source": []
  }
 ],
 "metadata": {
  "kernelspec": {
   "display_name": "Python 3 (ipykernel)",
   "language": "python",
   "name": "python3"
  },
  "language_info": {
   "codemirror_mode": {
    "name": "ipython",
    "version": 3
   },
   "file_extension": ".py",
   "mimetype": "text/x-python",
   "name": "python",
   "nbconvert_exporter": "python",
   "pygments_lexer": "ipython3",
   "version": "3.11.5"
  }
 },
 "nbformat": 4,
 "nbformat_minor": 5
}
